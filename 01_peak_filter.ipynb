{
 "cells": [
  {
   "cell_type": "code",
   "execution_count": 1,
   "metadata": {},
   "outputs": [
    {
     "name": "stdout",
     "output_type": "stream",
     "text": [
      "/Users/no_lineal/opt/anaconda3/envs/grid38/bin/python\n"
     ]
    }
   ],
   "source": [
    "! which python"
   ]
  },
  {
   "cell_type": "code",
   "execution_count": 2,
   "metadata": {},
   "outputs": [],
   "source": [
    "import numpy as np\n",
    "\n",
    "import scores\n",
    "\n",
    "from scipy.ndimage import maximum_filter\n",
    "\n",
    "from tqdm import tqdm\n",
    "\n",
    "import os\n",
    "\n",
    "# viz\n",
    "import matplotlib.pyplot as plt\n",
    "\n",
    "import warnings\n",
    "warnings.filterwarnings('ignore')"
   ]
  },
  {
   "cell_type": "code",
   "execution_count": 3,
   "metadata": {},
   "outputs": [
    {
     "name": "stdout",
     "output_type": "stream",
     "text": [
      "PATH: /Users/no_lineal/Documents/GitHub/dm-grid-cells\n",
      "precomputed path: /Users/no_lineal/Documents/GitHub/dm-grid-cells/precomputed/\n"
     ]
    }
   ],
   "source": [
    "\"\"\"\n",
    "\n",
    "    where am i?\n",
    "\n",
    "\"\"\"\n",
    "\n",
    "PATH = os.getcwd()\n",
    "precomputed_path = PATH + '/precomputed/'\n",
    "\n",
    "print( f'PATH: { PATH }' )\n",
    "print( f'precomputed path: { precomputed_path }' )"
   ]
  },
  {
   "cell_type": "code",
   "execution_count": 4,
   "metadata": {},
   "outputs": [
    {
     "name": "stdout",
     "output_type": "stream",
     "text": [
      "res_lst: 1\n",
      "scores_lst: 1\n"
     ]
    }
   ],
   "source": [
    "\"\"\" \n",
    "\n",
    "    load dataset\n",
    "\n",
    "\"\"\"\n",
    "\n",
    "res_lst = sorted( [ x for x in os.listdir( precomputed_path + 'res/' ) if '.npy' in x] )\n",
    "res_lst = [ np.load( precomputed_path + 'res/' + x, allow_pickle=True, encoding='latin1' ) for x in res_lst ]\n",
    "\n",
    "scores_lst = sorted( [ x for x in os.listdir( precomputed_path + 'scores/' ) if '.npy' in x ] )\n",
    "scores_lst = [ np.load( precomputed_path + 'scores/' + x, allow_pickle=True, encoding='latin1' ) for x in scores_lst ]\n",
    "\n",
    "print( f'res_lst: { len(res_lst) }' )\n",
    "print( f'scores_lst: { len(scores_lst) }' )"
   ]
  },
  {
   "cell_type": "code",
   "execution_count": 5,
   "metadata": {},
   "outputs": [
    {
     "name": "stdout",
     "output_type": "stream",
     "text": [
      "sample lstm: (4000, 100, 128)\n",
      "sample bootleneck: (4000, 100, 512)\n",
      "sample pos_xy: (4000, 100, 2)\n"
     ]
    }
   ],
   "source": [
    "\"\"\"  \n",
    "\n",
    "    sample\n",
    "\n",
    "\"\"\"\n",
    "\n",
    "sample_res = np.random.choice( res_lst, 1 )\n",
    "sample_res = dict( sample_res[0].item() )\n",
    "\n",
    "sample_res.keys()\n",
    "print( f'sample lstm: { sample_res[\"lstm\"].shape }' )\n",
    "print( f'sample bootleneck: { sample_res[\"bottleneck\"].shape }' )\n",
    "print( f'sample pos_xy: { sample_res[\"pos_xy\"].shape }' )"
   ]
  },
  {
   "cell_type": "code",
   "execution_count": 6,
   "metadata": {},
   "outputs": [
    {
     "name": "stderr",
     "output_type": "stream",
     "text": [
      "100%|██████████| 512/512 [00:08<00:00, 60.77it/s]\n",
      "100%|██████████| 512/512 [01:41<00:00,  5.03it/s]"
     ]
    },
    {
     "name": "stdout",
     "output_type": "stream",
     "text": [
      "xy: (400000, 2)\n",
      "act: (400000, 512)\n",
      "n_units: 512\n",
      "\n",
      "score_60: 512\n",
      "score_90: 512\n",
      "max_60_mask: 512\n",
      "max_90_mask: 512\n",
      "sac: 512\n"
     ]
    },
    {
     "name": "stderr",
     "output_type": "stream",
     "text": [
      "\n"
     ]
    }
   ],
   "source": [
    "\"\"\" \n",
    "\n",
    "    get scores\n",
    "\n",
    "\"\"\"\n",
    "\n",
    "starts = [0.2] * 10\n",
    "ends = np.linspace(0.4, 1.0, num=10)\n",
    "masks_parameters = zip(starts, ends.tolist())\n",
    "\n",
    "coord_range = ( (-1.1, 1.1), (-1.1, 1.1) )\n",
    "\n",
    "latest_epoch_scorer = scores.GridScorer(50, coord_range, masks_parameters)\n",
    "\n",
    "# concatenate trajectories\n",
    "xy = sample_res['pos_xy'].reshape(-1, sample_res['pos_xy'].shape[-1])\n",
    "act = sample_res['bottleneck'].reshape(-1, sample_res['bottleneck'].shape[-1])\n",
    "n_units = act.shape[1]\n",
    "\n",
    "# get ratemap for each unit\n",
    "s = [ latest_epoch_scorer.calculate_ratemap(xy[:, 0], xy[:, 1], act[:, i]) for i in tqdm(range(n_units)) ]\n",
    "\n",
    "# Get the scores\n",
    "score_60, score_90, max_60_mask, max_90_mask, sac = zip( * [ latest_epoch_scorer.get_scores(rate_map) for rate_map in tqdm(s) ] )\n",
    "\n",
    "print( f'xy: { xy.shape }' )\n",
    "print( f'act: { act.shape }' )\n",
    "print( f'n_units: { n_units }' )\n",
    "print('')\n",
    "print( f'score_60: { len(score_60) }' )\n",
    "print( f'score_90: { len(score_90) }' )\n",
    "print( f'max_60_mask: { len(max_60_mask) }' )\n",
    "print( f'max_90_mask: { len(max_90_mask) }' )\n",
    "print( f'sac: { len(sac) }' )"
   ]
  },
  {
   "cell_type": "code",
   "execution_count": 7,
   "metadata": {},
   "outputs": [
    {
     "name": "stderr",
     "output_type": "stream",
     "text": [
      "100%|██████████| 512/512 [00:00<00:00, 5665.15it/s]"
     ]
    },
    {
     "name": "stdout",
     "output_type": "stream",
     "text": [
      "sac: (512, 99, 99)\n",
      "global_max: 512\n",
      "local_max: 512\n"
     ]
    },
    {
     "name": "stderr",
     "output_type": "stream",
     "text": [
      "\n"
     ]
    }
   ],
   "source": [
    "\"\"\" \n",
    "\n",
    "    peak filter\n",
    "\n",
    "\"\"\"\n",
    "\n",
    "def peak_filter( sac ):\n",
    "\n",
    "    global_max = []\n",
    "    local_max = []\n",
    "\n",
    "    for s in tqdm(sac):\n",
    "        \n",
    "        global_max_pos = np.unravel_index( s.argmax(), s.shape )\n",
    "        local_max_pos = maximum_filter(s, footprint=np.ones((10, 10)), mode='constant')\n",
    "\n",
    "        global_max.append( global_max_pos )\n",
    "        local_max.append( local_max_pos )\n",
    "\n",
    "    return global_max, local_max\n",
    "\n",
    "sac = np.array( sac )\n",
    "global_max, local_max = peak_filter( sac )\n",
    "\n",
    "print( f'sac: { sac.shape }' )\n",
    "print( f'global_max: { len(global_max) }' )\n",
    "print( f'local_max: { len(local_max) }' )"
   ]
  },
  {
   "cell_type": "code",
   "execution_count": 8,
   "metadata": {},
   "outputs": [
    {
     "name": "stdout",
     "output_type": "stream",
     "text": [
      "idx_sample: 45\n"
     ]
    },
    {
     "data": {
      "image/png": "[encoded data removed]",
      "text/plain": [
       "<Figure size 640x480 with 1 Axes>"
      ]
     },
     "metadata": {},
     "output_type": "display_data"
    }
   ],
   "source": [
    "\"\"\"  \n",
    "\n",
    "    sac sample\n",
    "\n",
    "\"\"\"\n",
    "\n",
    "idx_sample = np.random.choice( range(len(sac)) )\n",
    "idx_sample = 45\n",
    "sac_sample = sac[ idx_sample ]\n",
    "global_sample = global_max[ idx_sample ]\n",
    "local_sample = local_max[ idx_sample ]\n",
    "local_sample = np.argwhere( local_sample == sac_sample )\n",
    "\n",
    "print( f'idx_sample: { idx_sample }' )\n",
    "\n",
    "plt.imshow( sac_sample )\n",
    "plt.plot( global_sample[1], global_sample[0], 'r*' )\n",
    "plt.plot( local_sample[:,1], local_sample[:,0], 'b*' )\n",
    "\n",
    "plt.show()"
   ]
  },
  {
   "cell_type": "code",
   "execution_count": null,
   "metadata": {},
   "outputs": [],
   "source": []
  }
 ],
 "metadata": {
  "kernelspec": {
   "display_name": "grid38",
   "language": "python",
   "name": "python3"
  },
  "language_info": {
   "codemirror_mode": {
    "name": "ipython",
    "version": 3
   },
   "file_extension": ".py",
   "mimetype": "text/x-python",
   "name": "python",
   "nbconvert_exporter": "python",
   "pygments_lexer": "ipython3",
   "version": "3.8.16"
  }
 },
 "nbformat": 4,
 "nbformat_minor": 2
}
