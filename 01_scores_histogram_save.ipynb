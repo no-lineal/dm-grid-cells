{
 "cells": [
  {
   "cell_type": "code",
   "execution_count": 10,
   "metadata": {},
   "outputs": [
    {
     "name": "stdout",
     "output_type": "stream",
     "text": [
      "/Users/no_lineal/opt/anaconda3/envs/grid38/bin/python\n"
     ]
    }
   ],
   "source": [
    "! which python"
   ]
  },
  {
   "cell_type": "code",
   "execution_count": 11,
   "metadata": {},
   "outputs": [],
   "source": [
    "import numpy as np\n",
    "\n",
    "import scores\n",
    "\n",
    "from scipy.ndimage import maximum_filter\n",
    "\n",
    "from tqdm import tqdm\n",
    "\n",
    "import os \n",
    "\n",
    "# viz\n",
    "import matplotlib.pyplot as plt\n",
    "\n",
    "import warnings\n",
    "warnings.filterwarnings('ignore')"
   ]
  },
  {
   "cell_type": "code",
   "execution_count": 12,
   "metadata": {},
   "outputs": [
    {
     "name": "stdout",
     "output_type": "stream",
     "text": [
      "PATH: /Users/no_lineal/Documents/GitHub/dm-grid-cells\n",
      "precomputed path: /Users/no_lineal/Documents/GitHub/dm-grid-cells/precomputed/\n"
     ]
    }
   ],
   "source": [
    "\"\"\"\n",
    "\n",
    "    where am i?\n",
    "\n",
    "\"\"\"\n",
    "\n",
    "PATH = os.getcwd()\n",
    "precomputed_path = PATH + '/precomputed/'\n",
    "\n",
    "print( f'PATH: { PATH }' )\n",
    "print( f'precomputed path: { precomputed_path }' )"
   ]
  },
  {
   "cell_type": "code",
   "execution_count": 13,
   "metadata": {},
   "outputs": [
    {
     "name": "stdout",
     "output_type": "stream",
     "text": [
      "res_lst: 1\n",
      "scores_lst: 1\n"
     ]
    }
   ],
   "source": [
    "\"\"\" \n",
    "\n",
    "    load dataset\n",
    "\n",
    "\"\"\"\n",
    "\n",
    "res_lst = sorted( [ x for x in os.listdir( precomputed_path + 'res/' ) if '.npy' in x] )\n",
    "res_lst = [ 'res_999.npy' ]\n",
    "res_lst = [ np.load( precomputed_path + 'res/' + x, allow_pickle=True, encoding='latin1' ) for x in res_lst ]\n",
    "\n",
    "scores_lst = sorted( [ x for x in os.listdir( precomputed_path + 'scores/' ) if '.npy' in x ] )\n",
    "scores_lst = [ 'scores_999.npy' ]\n",
    "scores_lst = [ np.load( precomputed_path + 'scores/' + x, allow_pickle=True, encoding='latin1' ) for x in scores_lst ]\n",
    "\n",
    "print( f'res_lst: { len(res_lst) }' )\n",
    "print( f'scores_lst: { len(scores_lst) }' )"
   ]
  },
  {
   "cell_type": "code",
   "execution_count": 14,
   "metadata": {},
   "outputs": [
    {
     "name": "stdout",
     "output_type": "stream",
     "text": [
      "\n",
      "sample_idx: 0\n",
      "\n",
      "scores keys: dict_keys(['btln_60_separation', 'lstm_90', 'btln_60', 'btln_90_separation', 'btln_90', 'lstm_60'])\n",
      "res keys: dict_keys(['lstm', 'bottleneck', 'pos_xy'])\n",
      "\n"
     ]
    }
   ],
   "source": [
    "\"\"\"  \n",
    "\n",
    "    sample\n",
    "\n",
    "\"\"\"\n",
    "\n",
    "sample_idx = np.random.choice( len(res_lst) )\n",
    "\n",
    "print('')\n",
    "print( f'sample_idx: { sample_idx }' )\n",
    "print('')\n",
    "\n",
    "sample_scores = dict( scores_lst[ sample_idx ].item() )\n",
    "sample_res = dict( res_lst[ sample_idx ].item() )\n",
    "\n",
    "print( f'scores keys: { sample_scores.keys() }' )\n",
    "print( f'res keys: { sample_res.keys() }' )\n",
    "print('')"
   ]
  },
  {
   "cell_type": "code",
   "execution_count": 15,
   "metadata": {},
   "outputs": [
    {
     "data": {
      "image/png": "[encoded data removed]",
      "text/plain": [
       "<Figure size 640x480 with 1 Axes>"
      ]
     },
     "metadata": {},
     "output_type": "display_data"
    }
   ],
   "source": [
    "\"\"\" \n",
    "\n",
    "    score btln_60\n",
    "\n",
    "\"\"\"\n",
    "\n",
    "btln_60 = sample_scores[ 'btln_60' ]\n",
    "\n",
    "plt.hist( btln_60, bins=int((btln_60.shape[0])/4) )\n",
    "plt.show()"
   ]
  },
  {
   "cell_type": "code",
   "execution_count": 16,
   "metadata": {},
   "outputs": [
    {
     "data": {
      "image/png": "[encoded data removed]",
      "text/plain": [
       "<Figure size 640x480 with 1 Axes>"
      ]
     },
     "metadata": {},
     "output_type": "display_data"
    }
   ],
   "source": [
    "\"\"\" \n",
    "\n",
    "    filter by score\n",
    "\n",
    "\"\"\"\n",
    "\n",
    "btln_60_top_idx = np.where( btln_60 >= 0.27 )[0]\n",
    "\n",
    "btln_60_top = btln_60[ btln_60_top_idx ]\n",
    "\n",
    "plt.hist( btln_60_top, bins=int( btln_60_top.shape[0] / 2 ) )\n",
    "plt.show()"
   ]
  },
  {
   "cell_type": "code",
   "execution_count": 17,
   "metadata": {},
   "outputs": [
    {
     "name": "stdout",
     "output_type": "stream",
     "text": [
      "sample_res_pos: (4000, 100, 2)\n",
      "sample_res_btln: (4000, 100, 512)\n",
      "\n"
     ]
    },
    {
     "name": "stderr",
     "output_type": "stream",
     "text": [
      "100%|██████████| 512/512 [00:07<00:00, 69.17it/s]\n",
      "100%|██████████| 512/512 [00:03<00:00, 152.70it/s]\n"
     ]
    },
    {
     "name": "stdout",
     "output_type": "stream",
     "text": [
      "\n",
      "xy: (400000, 2)\n",
      "act: (400000, 512)\n",
      "n_units: 512\n",
      "\n",
      "s: 512\n",
      "s_0: (20, 20)\n",
      "score_60: 512\n",
      "score_90: 512\n",
      "max_60_mask: 512\n",
      "max_90_mask: 512\n",
      "sac: 512\n"
     ]
    },
    {
     "data": {
      "image/png": "[encoded data removed]",
      "text/plain": [
       "<Figure size 640x480 with 1 Axes>"
      ]
     },
     "metadata": {},
     "output_type": "display_data"
    }
   ],
   "source": [
    "\"\"\" \n",
    "\n",
    "    get scores\n",
    "\n",
    "\"\"\"\n",
    "\n",
    "sample_res_pos = sample_res[ 'pos_xy' ]\n",
    "sample_res_btln = sample_res[ 'bottleneck' ]\n",
    "\n",
    "print( f'sample_res_pos: { sample_res_pos.shape }' )\n",
    "print( f'sample_res_btln: { sample_res_btln.shape }' )\n",
    "print('')\n",
    "\n",
    "starts = [0.2] * 10\n",
    "ends = np.linspace(0.4, 1.0, num=10)\n",
    "masks_parameters = zip(starts, ends.tolist())\n",
    "\n",
    "coord_range = ( (-1.1, 1.1), (-1.1, 1.1) )\n",
    "\n",
    "res = 20\n",
    "latest_epoch_scorer = scores.GridScorer( res, coord_range, masks_parameters )\n",
    "\n",
    "# concatenate trajectories\n",
    "xy = sample_res_pos.reshape(-1, sample_res_pos.shape[-1])\n",
    "act = sample_res_btln.reshape(-1, sample_res_btln.shape[-1])\n",
    "n_units = act.shape[1]\n",
    "\n",
    "# get ratemap for each unit\n",
    "s = [ latest_epoch_scorer.calculate_ratemap(xy[:, 0], xy[:, 1], act[:, i]) for i in tqdm(range(n_units)) ]\n",
    "\n",
    "# Get the scores\n",
    "score_60, score_90, max_60_mask, max_90_mask, sac = zip( * [ latest_epoch_scorer.get_scores(rate_map) for rate_map in tqdm(s) ] )\n",
    "\n",
    "print('')\n",
    "print( f'xy: { xy.shape }' )\n",
    "print( f'act: { act.shape }' )\n",
    "print( f'n_units: { n_units }' )\n",
    "print('')\n",
    "print( f's: { len(s) }' )\n",
    "print( f's_0: {s[0].shape}' )\n",
    "print( f'score_60: { len(score_60) }' )\n",
    "print( f'score_90: { len(score_90) }' )\n",
    "print( f'max_60_mask: { len(max_60_mask) }' )\n",
    "print( f'max_90_mask: { len(max_90_mask) }' )\n",
    "print( f'sac: { len(sac) }' )\n",
    "\n",
    "plt.hist( score_60, bins=int( len(score_60) / 2 ) )\n",
    "plt.show()"
   ]
  },
  {
   "cell_type": "code",
   "execution_count": null,
   "metadata": {},
   "outputs": [],
   "source": [
    "np.save( precomputed_path + 's_20.npy', s )\n",
    "np.save( precomputed_path + 'score_60_20.npy', score_60 )\n",
    "np.save( precomputed_path + 'score_90_20.npy', score_90 )\n",
    "np.save( precomputed_path + 'max_60_mask_20.npy', max_60_mask )\n",
    "np.save( precomputed_path + 'max_90_mask_20.npy', max_90_mask )\n",
    "np.save( precomputed_path + 'sac_20.npy', sac )"
   ]
  },
  {
   "cell_type": "code",
   "execution_count": null,
   "metadata": {},
   "outputs": [],
   "source": [
    "\"\"\" \n",
    "\n",
    "    filter by score\n",
    "\n",
    "\"\"\"\n",
    "\n",
    "score_60 = np.array( score_60 )\n",
    "score_60_top_idx = np.where( score_60 >= 0.25 )[0]\n",
    "score_60_top = score_60[ score_60_top_idx ]\n",
    "\n",
    "plt.hist( score_60_top, bins=int( score_60_top.shape[0] / 2 ) )\n",
    "plt.show()"
   ]
  },
  {
   "cell_type": "code",
   "execution_count": null,
   "metadata": {},
   "outputs": [],
   "source": [
    "\"\"\" \n",
    "\n",
    "    peak filter\n",
    "\n",
    "\"\"\"\n",
    "\n",
    "def peak_filter( sac ):\n",
    "\n",
    "    global_max = []\n",
    "    local_max = []\n",
    "    distances = []\n",
    "\n",
    "    for s in tqdm(sac):\n",
    "        \n",
    "        #global_max_pos = np.unravel_index( s.argmax(), s.shape )\n",
    "        global_max_pos = (99, 99)\n",
    "        local_max_pos = maximum_filter(s, footprint=np.ones( (50, 50) ), mode='wrap')\n",
    "\n",
    "        dists = [ np.linalg.norm( np.array( global_max_pos ) - np.array( pos ) ) for pos in np.argwhere( local_max_pos == s ) ]\n",
    "\n",
    "        global_max.append( global_max_pos )\n",
    "        local_max.append( local_max_pos )\n",
    "        distances.append( dists )\n",
    "\n",
    "    return global_max, local_max, distances\n",
    "\n",
    "sac = np.array( sac )\n",
    "global_max, local_max, dists = peak_filter( sac )\n",
    "\n",
    "print( f'sac: { sac.shape }' )\n",
    "print( f'global_max: { len(global_max) }' )\n",
    "print( f'local_max: { len(local_max) }' )\n",
    "print( f'dists: { len(dists) }' )"
   ]
  },
  {
   "cell_type": "code",
   "execution_count": null,
   "metadata": {},
   "outputs": [],
   "source": [
    "\"\"\" \n",
    "\n",
    "    sac sample\n",
    "\n",
    "\"\"\"\n",
    "\n",
    "idx_sample = score_60_top_idx[0]\n",
    "\n",
    "sac_sample = sac[ idx_sample ]\n",
    "global_sample = global_max[ idx_sample ]\n",
    "local_sample = local_max[ idx_sample ]\n",
    "local_sample = np.argwhere( local_sample == sac_sample )\n",
    "dists_sample = dists[ idx_sample ]\n",
    "\n",
    "print( f'idx_sample: { idx_sample }' )\n",
    "print( f'dists sample: { dists_sample }' )\n",
    "\n",
    "plt.imshow( sac_sample )\n",
    "plt.plot( local_sample[:,1], local_sample[:,0], 'b*' )\n",
    "plt.plot( global_sample[1], global_sample[0], 'r*' )\n",
    "\n",
    "plt.show()"
   ]
  },
  {
   "cell_type": "code",
   "execution_count": null,
   "metadata": {},
   "outputs": [],
   "source": [
    "\"\"\"  \n",
    "\n",
    "    viz top k\n",
    "\n",
    "\"\"\"\n",
    "\n",
    "def sort_max_score( score ):\n",
    "\n",
    "    idxs = np.flip( np.argsort( score ) )\n",
    "\n",
    "    return idxs\n",
    "\n",
    "k = 10\n",
    "\n",
    "score_idx = sort_max_score( score_60 )\n",
    "score_top_idx = list(score_idx[:k])\n",
    "score_top_idx = np.random.choice( score_idx, size=k, replace=False )\n",
    "\n",
    "sac_sample = sac[ score_top_idx ]\n",
    "score_60_sample = score_60[ score_top_idx ]\n",
    "global_sample = np.array(global_max)[ score_top_idx ]\n",
    "local_sample = np.array(local_max)[ score_top_idx ]\n",
    "local_sample = [ np.argwhere( local_sample[i] == sac_sample[i] ) for i in range(k) ]\n",
    "dists_sample = [ dists[ idx ] for idx in score_top_idx ]\n",
    "\n",
    "print( f'idx_top_k: { score_top_idx }' )\n",
    "\n",
    "fig, axs = plt.subplots( 1 , k, figsize=( 20, 10 ) )\n",
    "\n",
    "for i in range( k ):\n",
    "\n",
    "    axs[ i ].imshow( sac_sample[ i ] )\n",
    "    axs[ i ].plot( local_sample[ i ][:,1], local_sample[ i ][:,0], 'b*' )\n",
    "    axs[ i ].plot( global_sample[ i ][1], global_sample[ i ][0], 'r*' )\n",
    "    axs[ i ].set_title( f'{  score_top_idx[i], round( score_60_sample[i], 3 ), round(np.mean( np.sort(dists_sample[i] )[:7]), 3) }' )\n",
    "\n",
    "plt.tight_layout()\n",
    "plt.show()"
   ]
  },
  {
   "cell_type": "code",
   "execution_count": null,
   "metadata": {},
   "outputs": [],
   "source": [
    "dist_mean_top = [ np.mean(np.sort(dists[ idx ])[1:2]) for idx in score_60_top_idx ]\n",
    "\n",
    "plt.hist( dist_mean_top, bins=int( len(dist_mean_top) / 10 ) )\n",
    "plt.show()"
   ]
  },
  {
   "cell_type": "code",
   "execution_count": null,
   "metadata": {},
   "outputs": [],
   "source": [
    "dist_mean = [ np.mean( np.sort( d )[1:2] ) for d in dists ]\n",
    "\n",
    "plt.hist( dist_mean, bins=int( len(dist_mean) / 10 ), density=True )    \n",
    "plt.show()"
   ]
  },
  {
   "cell_type": "code",
   "execution_count": null,
   "metadata": {},
   "outputs": [],
   "source": []
  }
 ],
 "metadata": {
  "kernelspec": {
   "display_name": "grid38",
   "language": "python",
   "name": "python3"
  },
  "language_info": {
   "codemirror_mode": {
    "name": "ipython",
    "version": 3
   },
   "file_extension": ".py",
   "mimetype": "text/x-python",
   "name": "python",
   "nbconvert_exporter": "python",
   "pygments_lexer": "ipython3",
   "version": "3.8.16"
  }
 },
 "nbformat": 4,
 "nbformat_minor": 2
}
